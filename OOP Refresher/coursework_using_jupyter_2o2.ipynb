{
 "cells": [
  {
   "cell_type": "markdown",
   "id": "a9d17d37-372e-48d1-be80-d51250e8246c",
   "metadata": {},
   "source": [
    "# Section 10 memory refs:"
   ]
  },
  {
   "cell_type": "markdown",
   "id": "7b17c3f6-cb4c-4c14-8176-6d2a3c12c637",
   "metadata": {},
   "source": [
    "id(object) returns its memory address (constant for objects lifetime"
   ]
  },
  {
   "cell_type": "code",
   "execution_count": 2,
   "id": "b0f09abc-46c9-4793-9be9-0651b7d0a1c8",
   "metadata": {},
   "outputs": [],
   "source": [
    "class Backpack:\n",
    "\n",
    "    def __init__(self):\n",
    "        self._items = []\n",
    "\n",
    "    @property\n",
    "    def items(self):\n",
    "        return self._items"
   ]
  },
  {
   "cell_type": "code",
   "execution_count": 5,
   "id": "30b3027b-15ff-4d0a-a62d-80956e15ae75",
   "metadata": {},
   "outputs": [],
   "source": [
    "my_backpack = Backpack()\n",
    "your_backpack = Backpack"
   ]
  },
  {
   "cell_type": "code",
   "execution_count": 6,
   "id": "5361fbab-a6db-4447-abac-090f77266a69",
   "metadata": {},
   "outputs": [
    {
     "name": "stdout",
     "output_type": "stream",
     "text": [
      "2757041722512\n",
      "2757062478224\n"
     ]
    }
   ],
   "source": [
    "print(id(your_backpack))\n",
    "print(id(my_backpack))"
   ]
  },
  {
   "cell_type": "code",
   "execution_count": 7,
   "id": "659fe409-ced4-4aff-ba19-746840b153b1",
   "metadata": {},
   "outputs": [],
   "source": [
    "a = 2000\n",
    "b = 2000"
   ]
  },
  {
   "cell_type": "code",
   "execution_count": 9,
   "id": "d102cf4f-eac0-45f1-8bb0-ef1dba32b913",
   "metadata": {},
   "outputs": [
    {
     "data": {
      "text/plain": [
       "False"
      ]
     },
     "execution_count": 9,
     "metadata": {},
     "output_type": "execute_result"
    }
   ],
   "source": [
    "a is b #pycharm optimizes memory automatically"
   ]
  },
  {
   "cell_type": "code",
   "execution_count": 12,
   "id": "6bf084b1-1f90-4756-9724-0f371f0aeae4",
   "metadata": {},
   "outputs": [
    {
     "data": {
      "text/plain": [
       "True"
      ]
     },
     "execution_count": 12,
     "metadata": {},
     "output_type": "execute_result"
    }
   ],
   "source": [
    "a = \"hi\"\n",
    "b = \"hi\"\n",
    "a is b #since strings are imutable, a single object is referenced multiple times\n",
    "#the string obj never changes"
   ]
  },
  {
   "cell_type": "markdown",
   "id": "f8a292a2-bd34-40b7-97dd-f9e6c6d769a6",
   "metadata": {},
   "source": [
    "# S11 - mutating, alias, clone"
   ]
  },
  {
   "cell_type": "code",
   "execution_count": null,
   "id": "22d7f361-d7f2-486b-8481-1a6a68083115",
   "metadata": {},
   "outputs": [],
   "source": []
  }
 ],
 "metadata": {
  "kernelspec": {
   "display_name": "Python 3 (ipykernel)",
   "language": "python",
   "name": "python3"
  },
  "language_info": {
   "codemirror_mode": {
    "name": "ipython",
    "version": 3
   },
   "file_extension": ".py",
   "mimetype": "text/x-python",
   "name": "python",
   "nbconvert_exporter": "python",
   "pygments_lexer": "ipython3",
   "version": "3.11.7"
  }
 },
 "nbformat": 4,
 "nbformat_minor": 5
}
