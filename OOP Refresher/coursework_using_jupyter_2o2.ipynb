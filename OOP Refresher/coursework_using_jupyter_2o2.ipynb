{
 "cells": [
  {
   "cell_type": "markdown",
   "id": "a9d17d37-372e-48d1-be80-d51250e8246c",
   "metadata": {},
   "source": [
    "# Section 10 memory refs:"
   ]
  },
  {
   "cell_type": "markdown",
   "id": "7b17c3f6-cb4c-4c14-8176-6d2a3c12c637",
   "metadata": {},
   "source": [
    "id(object) returns its memory address (constant for objects lifetime"
   ]
  },
  {
   "cell_type": "code",
   "execution_count": 2,
   "id": "b0f09abc-46c9-4793-9be9-0651b7d0a1c8",
   "metadata": {},
   "outputs": [],
   "source": [
    "class Backpack:\n",
    "\n",
    "    def __init__(self):\n",
    "        self._items = []\n",
    "\n",
    "    @property\n",
    "    def items(self):\n",
    "        return self._items"
   ]
  },
  {
   "cell_type": "code",
   "execution_count": 5,
   "id": "30b3027b-15ff-4d0a-a62d-80956e15ae75",
   "metadata": {},
   "outputs": [],
   "source": [
    "my_backpack = Backpack()\n",
    "your_backpack = Backpack"
   ]
  },
  {
   "cell_type": "code",
   "execution_count": 6,
   "id": "5361fbab-a6db-4447-abac-090f77266a69",
   "metadata": {},
   "outputs": [
    {
     "name": "stdout",
     "output_type": "stream",
     "text": [
      "2757041722512\n",
      "2757062478224\n"
     ]
    }
   ],
   "source": [
    "print(id(your_backpack))\n",
    "print(id(my_backpack))"
   ]
  },
  {
   "cell_type": "code",
   "execution_count": 7,
   "id": "659fe409-ced4-4aff-ba19-746840b153b1",
   "metadata": {},
   "outputs": [],
   "source": [
    "a = 2000\n",
    "b = 2000"
   ]
  },
  {
   "cell_type": "code",
   "execution_count": 9,
   "id": "d102cf4f-eac0-45f1-8bb0-ef1dba32b913",
   "metadata": {},
   "outputs": [
    {
     "data": {
      "text/plain": [
       "False"
      ]
     },
     "execution_count": 9,
     "metadata": {},
     "output_type": "execute_result"
    }
   ],
   "source": [
    "a is b #pycharm optimizes memory automatically"
   ]
  },
  {
   "cell_type": "code",
   "execution_count": 12,
   "id": "6bf084b1-1f90-4756-9724-0f371f0aeae4",
   "metadata": {},
   "outputs": [
    {
     "data": {
      "text/plain": [
       "True"
      ]
     },
     "execution_count": 12,
     "metadata": {},
     "output_type": "execute_result"
    }
   ],
   "source": [
    "a = \"hi\"\n",
    "b = \"hi\"\n",
    "a is b #since strings are imutable, a single object is referenced multiple times\n",
    "#the string obj never changes"
   ]
  },
  {
   "cell_type": "markdown",
   "id": "f8a292a2-bd34-40b7-97dd-f9e6c6d769a6",
   "metadata": {},
   "source": [
    "# S11 - mutating, alias, clone"
   ]
  },
  {
   "cell_type": "markdown",
   "id": "2087d925-8480-4789-81a2-247d3e0fc568",
   "metadata": {},
   "source": [
    "## quiz only"
   ]
  },
  {
   "cell_type": "markdown",
   "id": "f7b59061-7557-4c2d-9946-74a7c89e4a25",
   "metadata": {},
   "source": [
    "q.a: Mutation effects objects that are clones and aliases differently, a mutation to an object will effect all alias(es?) as they are only references to an object in the memory.  When an object is cloned, a similar object (almost identical) is created but with a new id().  This new object can mutate independently of similar objects with identical values."
   ]
  },
  {
   "cell_type": "markdown",
   "id": "67e4dd91-3edb-44c4-b53e-007b589ea1dd",
   "metadata": {},
   "source": [
    "q.b: With your knowledge of aliasing, mutation, and cloning, modify the functions in the following program so that the original list is not mutated."
   ]
  },
  {
   "cell_type": "code",
   "execution_count": 8,
   "id": "285ec55b-a1a8-44d3-9c81-36181af69c2f",
   "metadata": {},
   "outputs": [
    {
     "name": "stdout",
     "output_type": "stream",
     "text": [
      "9144576\n",
      "[7, 3, 6, 8, 2, 3, 7, 2, 6, 3, 6]\n"
     ]
    }
   ],
   "source": [
    "import copy\n",
    "\n",
    "a = [7, 3, 6, 8, 2, 3, 7, 2, 6, 3, 6]\n",
    "b = a\n",
    "c = b\n",
    "b = c\n",
    " \n",
    "def remove_i(data, target):\n",
    "    new_data = data.copy()\n",
    "    \n",
    "    for item in data:\n",
    "        if item == target:\n",
    "            new_data.remove(target)\n",
    "    return data\n",
    " \n",
    "def get_product(data):\n",
    "    total = 1\n",
    "    for i in range(len(data)):\n",
    "        total *= data[i]\n",
    "    return total\n",
    " \n",
    "remove_i(c, 3)\n",
    "print(get_product(b))\n",
    "print(a)"
   ]
  },
  {
   "cell_type": "code",
   "execution_count": null,
   "id": "12dac606-2338-4de5-80a1-622768c96776",
   "metadata": {},
   "outputs": [],
   "source": []
  }
 ],
 "metadata": {
  "kernelspec": {
   "display_name": "Python 3 (ipykernel)",
   "language": "python",
   "name": "python3"
  },
  "language_info": {
   "codemirror_mode": {
    "name": "ipython",
    "version": 3
   },
   "file_extension": ".py",
   "mimetype": "text/x-python",
   "name": "python",
   "nbconvert_exporter": "python",
   "pygments_lexer": "ipython3",
   "version": "3.11.7"
  }
 },
 "nbformat": 4,
 "nbformat_minor": 5
}
